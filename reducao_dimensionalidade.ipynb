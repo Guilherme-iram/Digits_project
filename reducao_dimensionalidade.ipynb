{
 "cells": [
  {
   "attachments": {},
   "cell_type": "markdown",
   "metadata": {},
   "source": [
    "# Mini Projeto - Machine Learning\n",
    "\n",
    "## 1ª Etapa: Redução de dimensionalidade"
   ]
  },
  {
   "cell_type": "code",
   "execution_count": 14,
   "metadata": {},
   "outputs": [],
   "source": [
    "import pandas as pd\n",
    "import numpy as np"
   ]
  },
  {
   "cell_type": "code",
   "execution_count": 20,
   "metadata": {},
   "outputs": [],
   "source": [
    "train_df = pd.read_csv('./dados/train.csv', sep=';')\n",
    "test_df = pd.read_csv('./dados/test.csv', sep=';')"
   ]
  },
  {
   "cell_type": "code",
   "execution_count": 21,
   "metadata": {},
   "outputs": [],
   "source": [
    "def simetria_vertical(matrixes):\n",
    "    res = []\n",
    "    for matrix in matrixes:\n",
    "        soma = 0\n",
    "        for i in range(0, 28):\n",
    "            for j in range(0, 14):\n",
    "                soma += abs(matrix[(28 * i) + j] - matrix[(28 * i) + 27 - j])\n",
    "        res.append(soma / 255.0)\n",
    "    return np.array(res)\n",
    "    # sum_diff += abs(matrix[i][j] - matrix[i][27 - j])\n",
    "    \n",
    "    \n",
    "def simetria_horizontal(matrixes):\n",
    "    res = []\n",
    "    for matrix in matrixes:\n",
    "        soma = 0\n",
    "        for i in range(0, 14):\n",
    "            for j in range(0, 28):\n",
    "                soma += abs(matrix[(28 * i) + j] - matrix[(28 * (27 - i)) + j])\n",
    "        res.append(soma / 255.0)\n",
    "    return np.array(res)\n",
    "    # abs(matrix[i][j] - matrix[27 - i][j])\n",
    "    \n",
    "\n"
   ]
  },
  {
   "cell_type": "code",
   "execution_count": 22,
   "metadata": {},
   "outputs": [
    {
     "data": {
      "text/html": [
       "<div>\n",
       "<style scoped>\n",
       "    .dataframe tbody tr th:only-of-type {\n",
       "        vertical-align: middle;\n",
       "    }\n",
       "\n",
       "    .dataframe tbody tr th {\n",
       "        vertical-align: top;\n",
       "    }\n",
       "\n",
       "    .dataframe thead th {\n",
       "        text-align: right;\n",
       "    }\n",
       "</style>\n",
       "<table border=\"1\" class=\"dataframe\">\n",
       "  <thead>\n",
       "    <tr style=\"text-align: right;\">\n",
       "      <th></th>\n",
       "      <th>label</th>\n",
       "      <th>intensidade</th>\n",
       "      <th>simetria</th>\n",
       "    </tr>\n",
       "  </thead>\n",
       "  <tbody>\n",
       "    <tr>\n",
       "      <th>0</th>\n",
       "      <td>0</td>\n",
       "      <td>145.435294</td>\n",
       "      <td>148.572549</td>\n",
       "    </tr>\n",
       "    <tr>\n",
       "      <th>1</th>\n",
       "      <td>0</td>\n",
       "      <td>118.576471</td>\n",
       "      <td>137.113725</td>\n",
       "    </tr>\n",
       "    <tr>\n",
       "      <th>2</th>\n",
       "      <td>0</td>\n",
       "      <td>127.600000</td>\n",
       "      <td>134.047059</td>\n",
       "    </tr>\n",
       "    <tr>\n",
       "      <th>3</th>\n",
       "      <td>0</td>\n",
       "      <td>138.047059</td>\n",
       "      <td>151.003922</td>\n",
       "    </tr>\n",
       "    <tr>\n",
       "      <th>4</th>\n",
       "      <td>0</td>\n",
       "      <td>146.215686</td>\n",
       "      <td>122.501961</td>\n",
       "    </tr>\n",
       "  </tbody>\n",
       "</table>\n",
       "</div>"
      ],
      "text/plain": [
       "   label  intensidade    simetria\n",
       "0      0   145.435294  148.572549\n",
       "1      0   118.576471  137.113725\n",
       "2      0   127.600000  134.047059\n",
       "3      0   138.047059  151.003922\n",
       "4      0   146.215686  122.501961"
      ]
     },
     "execution_count": 22,
     "metadata": {},
     "output_type": "execute_result"
    }
   ],
   "source": [
    "new_train_df = pd.DataFrame()\n",
    "new_train_df['label'] = train_df.iloc[:, 0]\n",
    "new_train_df['intensidade'] = [sum(train_df.iloc[i, 1:]) / 255 for i in range(train_df.shape[0])]\n",
    "new_train_df['simetria'] = simetria_vertical(train_df.iloc[:, 1:].to_numpy()) + simetria_horizontal(train_df.iloc[:, 1:].to_numpy())\n",
    "new_train_df.head()"
   ]
  },
  {
   "cell_type": "code",
   "execution_count": 23,
   "metadata": {},
   "outputs": [
    {
     "data": {
      "text/html": [
       "<div>\n",
       "<style scoped>\n",
       "    .dataframe tbody tr th:only-of-type {\n",
       "        vertical-align: middle;\n",
       "    }\n",
       "\n",
       "    .dataframe tbody tr th {\n",
       "        vertical-align: top;\n",
       "    }\n",
       "\n",
       "    .dataframe thead th {\n",
       "        text-align: right;\n",
       "    }\n",
       "</style>\n",
       "<table border=\"1\" class=\"dataframe\">\n",
       "  <thead>\n",
       "    <tr style=\"text-align: right;\">\n",
       "      <th></th>\n",
       "      <th>label</th>\n",
       "      <th>intensidade</th>\n",
       "      <th>simetria</th>\n",
       "    </tr>\n",
       "  </thead>\n",
       "  <tbody>\n",
       "    <tr>\n",
       "      <th>0</th>\n",
       "      <td>0</td>\n",
       "      <td>147.933333</td>\n",
       "      <td>130.470588</td>\n",
       "    </tr>\n",
       "    <tr>\n",
       "      <th>1</th>\n",
       "      <td>0</td>\n",
       "      <td>131.054902</td>\n",
       "      <td>122.721569</td>\n",
       "    </tr>\n",
       "    <tr>\n",
       "      <th>2</th>\n",
       "      <td>0</td>\n",
       "      <td>134.890196</td>\n",
       "      <td>151.725490</td>\n",
       "    </tr>\n",
       "    <tr>\n",
       "      <th>3</th>\n",
       "      <td>0</td>\n",
       "      <td>139.976471</td>\n",
       "      <td>133.921569</td>\n",
       "    </tr>\n",
       "    <tr>\n",
       "      <th>4</th>\n",
       "      <td>0</td>\n",
       "      <td>129.580392</td>\n",
       "      <td>130.274510</td>\n",
       "    </tr>\n",
       "  </tbody>\n",
       "</table>\n",
       "</div>"
      ],
      "text/plain": [
       "   label  intensidade    simetria\n",
       "0      0   147.933333  130.470588\n",
       "1      0   131.054902  122.721569\n",
       "2      0   134.890196  151.725490\n",
       "3      0   139.976471  133.921569\n",
       "4      0   129.580392  130.274510"
      ]
     },
     "execution_count": 23,
     "metadata": {},
     "output_type": "execute_result"
    }
   ],
   "source": [
    "new_test_df = pd.DataFrame()\n",
    "new_test_df['label'] = test_df.iloc[:, 0]\n",
    "new_test_df['intensidade'] = [sum(test_df.iloc[i, 1:]) / 255 for i in range(test_df.shape[0])]\n",
    "new_test_df['simetria'] = simetria_vertical(test_df.iloc[:, 1:].to_numpy()) + simetria_horizontal(test_df.iloc[:, 1:].to_numpy())\n",
    "new_test_df.head()"
   ]
  },
  {
   "cell_type": "code",
   "execution_count": 24,
   "metadata": {},
   "outputs": [],
   "source": [
    "new_train_df.to_csv(\"./dados/train_reduced.csv\", index=False)\n",
    "new_test_df.to_csv(\"./dados/test_reduced.csv\", index=False)"
   ]
  }
 ],
 "metadata": {
  "kernelspec": {
   "display_name": "base",
   "language": "python",
   "name": "python3"
  },
  "language_info": {
   "codemirror_mode": {
    "name": "ipython",
    "version": 3
   },
   "file_extension": ".py",
   "mimetype": "text/x-python",
   "name": "python",
   "nbconvert_exporter": "python",
   "pygments_lexer": "ipython3",
   "version": "3.9.13"
  },
  "orig_nbformat": 4
 },
 "nbformat": 4,
 "nbformat_minor": 2
}
