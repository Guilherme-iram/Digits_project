{
 "cells": [
  {
   "cell_type": "code",
   "execution_count": 1,
   "metadata": {},
   "outputs": [
    {
     "name": "stdout",
     "output_type": "stream",
     "text": [
      "Teste 1x5\n"
     ]
    }
   ],
   "source": [
    "import numpy as np\n",
    "from numpy.linalg import pinv\n",
    "from numpy.linalg import inv\n",
    "import numpy.linalg as LA\n",
    "import random\n",
    "from random import sample \n",
    "from tqdm import tqdm\n",
    "from utils import * \n",
    "from linear_models import *\n",
    "np.random.seed(100)\n",
    "\n",
    "def main1():\n",
    "    import pandas as pd\n",
    "    from sklearn.metrics import classification_report\n",
    "\n",
    "    new_train_df = pd.read_csv('./dados/train_reduced.csv')\n",
    "    new_test_df = pd.read_csv('./dados/test_reduced.csv')\n",
    "\n",
    "    mask1 = new_train_df['label'] == 5\n",
    "    mask2 = new_train_df['label'] == 1\n",
    "    mask3 = new_test_df['label'] == 5\n",
    "    mask4 = new_test_df['label'] == 1\n",
    "\n",
    "    train1x5 = new_train_df[mask1 | mask2]\n",
    "    test1x5 = new_test_df[mask3 | mask4]\n",
    "\n",
    "    X_train = train1x5[['intensidade', 'simetria']]\n",
    "    X_train = X_train.to_numpy()\n",
    "    X_train = np.c_[np.ones(X_train.shape[0]), X_train]\n",
    "    X_test = test1x5[['intensidade', 'simetria']]\n",
    "    X_test = X_test.to_numpy()\n",
    "    X_test = np.c_[np.ones(X_test.shape[0]), X_test]\n",
    "\n",
    "    y_train = [1 if label == 1 else -1 for label in train1x5.label]\n",
    "    y_test = [1 if label == 1 else -1 for label in test1x5.label]\n",
    "\n",
    "    modelo =  LogisticRegression(tmax=5000)\n",
    "    modelo.fit(X_train, y_train)\n",
    "    ypred = modelo.predict(X_test)\n",
    "    cm = multiclass_confusion_matrix(y_test, ypred)\n",
    "    print(classification_report(y_test, ypred))\n",
    "    print(cm)\n",
    "    print_metrics(y_test, ypred)\n",
    "    # plot_classification_digits(test1x5, [1, 5],[ 'blue', 'red'], 'LOGISTICA - Classificacao - Teste 1x5', [modelo.get_w()])\n",
    "    # print('w = ', modelo.get_w())\n",
    "    # return modelo.get_w()\n",
    "    \n",
    "\n",
    "def main():\n",
    "    #  print('Teste 1x5')\n",
    "    modelo = Um_contra_todos()\n",
    "    modelo.load_all_w()\n",
    "\n",
    "    \n",
    "\n",
    "\n",
    "\n",
    "main()\n"
   ]
  }
 ],
 "metadata": {
  "kernelspec": {
   "display_name": "base",
   "language": "python",
   "name": "python3"
  },
  "language_info": {
   "codemirror_mode": {
    "name": "ipython",
    "version": 3
   },
   "file_extension": ".py",
   "mimetype": "text/x-python",
   "name": "python",
   "nbconvert_exporter": "python",
   "pygments_lexer": "ipython3",
   "version": "3.9.13"
  },
  "orig_nbformat": 4
 },
 "nbformat": 4,
 "nbformat_minor": 2
}
