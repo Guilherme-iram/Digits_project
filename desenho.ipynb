{
 "cells": [
  {
   "cell_type": "code",
   "execution_count": 1,
   "metadata": {},
   "outputs": [],
   "source": [
    "import pandas as pd\n",
    "import numpy as np\n",
    "import tkinter as tk\n",
    "from PIL import Image, ImageDraw, ImageOps\n",
    "from utils import *\n",
    "from linear_models import *"
   ]
  },
  {
   "cell_type": "code",
   "execution_count": 2,
   "metadata": {},
   "outputs": [
    {
     "name": "stdout",
     "output_type": "stream",
     "text": [
      "(784,)\n",
      "[  0   0   0   0   0   0   0   0   0   0   0   0   0   0   0   0   0   0\n",
      "   0   0   0   0   0   0   0   0   0   0   0   0   0   0   0   0   0   0\n",
      "   0   0   0   0   0   0   0   0   0   0   0   0   0   0   0   0   0   0\n",
      "   0   0   0   0   0   0   0   0   0   0   0   0   0   0   0   0   0   0\n",
      "   0   0   0   0   0   0   0   0   0   0   0   0   0   0   0   0   0   0\n",
      "   0   0   0   0   0   0   0   0   0   0   0   0   0   0   0   0   0   0\n",
      "   0   0   0   0   0   0   0   0   0   0   0   0   0   0   0   0   0   0\n",
      "   0   0   0   0   0   0   0   0   0   0   0   0   0   0   0   0   0   0\n",
      "   0   0   0   0   0   0   0   0   0   0   0   0   0   0   0   0   0   0\n",
      "   0   0   0   0   0   0   0   0   0   0   0   0   0   0   0   0   0   0\n",
      "   0   0   0   0   0   0   0   0   0   0   0   0   0   0   0   0   0   0\n",
      "   0   0   0   0   0   0   0   0   0   0 255 222 221 251   0   0   0   0\n",
      "   0   0   0   0   0   0   0   0   0   0   0   0   0   0   0   0   0   0\n",
      "   0   0 246 183 191 253   0   0   0   0   0   0   0   0   0   0   0   0\n",
      "   0   0   0   0   0   0   0   0   0   0   0   0 226 176 212   0   0   0\n",
      "   0   0   0   0   0   0   0   0   0   0   0   0   0   0   0   0   0   0\n",
      "   0   0   0   0 212 175 226   0   0   0   0   0   0   0   0   0   0   0\n",
      "   0   0   0   0   0   0   0   0   0   0   0   0   0   0 200 176 234   0\n",
      "   0   0   0   0   0   0   0   0   0   0   0   0   0   0   0   0   0   0\n",
      "   0   0   0   0   0 252 190 181 243   0   0   0   0   0   0   0   0   0\n",
      "   0   0   0   0   0   0   0   0   0   0   0   0   0   0   0 245 186 189\n",
      " 252   0   0   0   0   0   0   0   0   0   0   0   0   0   0   0   0   0\n",
      "   0   0   0   0   0   0   0 239 177 196   0   0   0   0   0   0   0   0\n",
      "   0   0   0   0   0   0   0   0   0   0   0   0   0   0   0   0   0 239\n",
      " 178 196   0   0   0   0   0   0   0   0   0   0   0   0   0   0   0   0\n",
      "   0   0   0   0   0   0   0   0   0 237 178 198   0   0   0   0   0   0\n",
      "   0   0   0   0   0   0   0   0   0   0   0   0   0   0   0   0   0   0\n",
      "   0 232 178 206   0   0   0   0   0   0   0   0   0   0   0   0   0   0\n",
      "   0   0   0   0   0   0   0   0   0   0   0 223 174 217   0   0   0   0\n",
      "   0   0   0   0   0   0   0   0   0   0   0   0   0   0   0   0   0   0\n",
      "   0   0   0 240 223 241   0   0   0   0   0   0   0   0   0   0   0   0\n",
      "   0   0   0   0   0   0   0   0   0   0   0   0   0   0   0   0   0   0\n",
      "   0   0   0   0   0   0   0   0   0   0   0   0   0   0   0   0   0   0\n",
      "   0   0   0   0   0   0   0   0   0   0   0   0   0   0   0   0   0   0\n",
      "   0   0   0   0   0   0   0   0   0   0   0   0   0   0   0   0   0   0\n",
      "   0   0   0   0   0   0   0   0   0   0   0   0   0   0   0   0   0   0\n",
      "   0   0   0   0   0   0   0   0   0   0   0   0   0   0   0   0   0   0\n",
      "   0   0   0   0   0   0   0   0   0   0   0   0   0   0   0   0   0   0\n",
      "   0   0   0   0   0   0   0   0   0   0   0   0   0   0   0   0   0   0\n",
      "   0   0   0   0   0   0   0   0   0   0   0   0   0   0   0   0   0   0\n",
      "   0   0   0   0   0   0   0   0   0   0   0   0   0   0   0   0   0   0\n",
      "   0   0   0   0   0   0   0   0   0   0   0   0   0   0   0   0   0   0\n",
      "   0   0   0   0   0   0   0   0   0   0   0   0   0   0   0   0   0   0\n",
      "   0   0   0   0   0   0   0   0   0   0]\n"
     ]
    }
   ],
   "source": [
    "def get_digit():\n",
    "\n",
    "    img = Image.new(\"RGB\", (canvas_width, canvas_height), (255, 255, 255))\n",
    "    draw = ImageDraw.Draw(img)\n",
    "    draw.rectangle((0, 0, canvas_width, canvas_height), fill=0)\n",
    "\n",
    "    for i in range(len(points)-1):\n",
    "        draw.line((points[i], points[i+1]), fill=255, width=20)\n",
    "\n",
    "    img = ImageOps.invert(img.convert(\"L\")).resize((28,28))\n",
    "    img_array = np.array(img).reshape((784))\n",
    "\n",
    "    return abs(img_array - 255)\n",
    "\n",
    "def paint(event):\n",
    "    x, y = event.x, event.y\n",
    "    canvas.create_oval(x-10, y-10, x+10, y+10, fill='black')\n",
    "    points.append((x, y))\n",
    "\n",
    "def clear():\n",
    "    global points\n",
    "    canvas.delete('all')\n",
    "    points = []\n",
    "\n",
    "def get_flaat_digit():\n",
    "    global flaat_digit\n",
    "    flaat_digit = get_digit()\n",
    "    root.destroy()\n",
    "\n",
    "root = tk.Tk()\n",
    "\n",
    "root.title(\"Desenhe um dígito\")\n",
    "\n",
    "canvas_width = 280\n",
    "canvas_height = 280\n",
    "points = []\n",
    "\n",
    "canvas = tk.Canvas(root, width=canvas_width, height=canvas_height, bg='white')\n",
    "canvas.pack()\n",
    "\n",
    "canvas.bind('<B1-Motion>', paint)\n",
    "\n",
    "clear_button = tk.Button(text=\"Limpar\", command=clear)\n",
    "clear_button.pack(side='left')\n",
    "\n",
    "button_frame = tk.Frame(root)\n",
    "button_frame.pack(side='left', padx=5)\n",
    "\n",
    "flaat_digit = None\n",
    "\n",
    "digit_button = tk.Button(button_frame, text=\"Obter dígito\", command=get_flaat_digit)\n",
    "digit_button.pack()\n",
    "\n",
    "root.update()\n",
    "root.mainloop()\n",
    "\n",
    "print(flaat_digit.shape)\n",
    "print(flaat_digit)"
   ]
  },
  {
   "cell_type": "code",
   "execution_count": 3,
   "metadata": {},
   "outputs": [
    {
     "name": "stderr",
     "output_type": "stream",
     "text": [
      "c:\\Users\\Guilherme\\Documents\\Faculdade\\p5\\projetoML\\utils.py:27: RuntimeWarning: overflow encountered in ubyte_scalars\n",
      "  soma += abs(matrix[(28 * i) + j] - matrix[(28 * (27 - i)) + j])\n",
      "c:\\Users\\Guilherme\\Documents\\Faculdade\\p5\\projetoML\\utils.py:16: RuntimeWarning: overflow encountered in ubyte_scalars\n",
      "  soma += abs(matrix[(28 * i) + j] - matrix[(28 * i) + 27 - j])\n"
     ]
    }
   ],
   "source": [
    "intensidade = intensidade_digito([flaat_digit])[0]\n",
    "simetria = (simetria_horizontal_digito([flaat_digit]) + simetria_vertical_digito([flaat_digit]))[0]\n",
    "\n",
    "x_test = np.array([1, intensidade, simetria]).reshape((1, 3))"
   ]
  },
  {
   "cell_type": "code",
   "execution_count": 4,
   "metadata": {},
   "outputs": [
    {
     "name": "stdout",
     "output_type": "stream",
     "text": [
      "Empty DataFrame\n",
      "Columns: [w1,  w2,  w3,  digitos]\n",
      "Index: []\n"
     ]
    },
    {
     "data": {
      "text/plain": [
       "1"
      ]
     },
     "execution_count": 4,
     "metadata": {},
     "output_type": "execute_result"
    }
   ],
   "source": [
    "# Ler melhores w de cada modelo e seus respectivos digitos\n",
    "best_W_df = pd.read_csv('best_W.csv')\n",
    "print(best_W_df)\n",
    "\n",
    "lr = LinearRegression()\n",
    "modelo = Um_contra_todos(lr, [1, 0, 4, 5])\n",
    "modelo.set_all_w([np.array([12186.        ,  -192.1254902 ,    29.04313725]),\n",
    "                np.array([-1.94011000e+05,  1.47237255e+03,  1.73435294e+02]),\n",
    "                np.array([ 1.76118000e+05,  2.28117647e+01, -1.53418824e+03])])\n",
    "\n",
    "\n",
    "modelo.predict_digit(x_test)[0]"
   ]
  }
 ],
 "metadata": {
  "kernelspec": {
   "display_name": "base",
   "language": "python",
   "name": "python3"
  },
  "language_info": {
   "codemirror_mode": {
    "name": "ipython",
    "version": 3
   },
   "file_extension": ".py",
   "mimetype": "text/x-python",
   "name": "python",
   "nbconvert_exporter": "python",
   "pygments_lexer": "ipython3",
   "version": "3.9.13"
  },
  "orig_nbformat": 4
 },
 "nbformat": 4,
 "nbformat_minor": 2
}
