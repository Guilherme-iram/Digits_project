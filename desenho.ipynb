{
 "cells": [
  {
   "cell_type": "code",
   "execution_count": 5,
   "metadata": {},
   "outputs": [],
   "source": [
    "import pandas as pd\n",
    "import numpy as np\n",
    "import tkinter as tk\n",
    "from PIL import Image, ImageDraw, ImageOps\n",
    "from utils import *\n",
    "from linear_models import *"
   ]
  },
  {
   "cell_type": "code",
   "execution_count": 6,
   "metadata": {},
   "outputs": [],
   "source": [
    "def get_digit():\n",
    "\n",
    "    img = Image.new(\"RGB\", (canvas_width, canvas_height), (255, 255, 255))\n",
    "    draw = ImageDraw.Draw(img)\n",
    "    draw.rectangle((0, 0, canvas_width, canvas_height), fill=0)\n",
    "\n",
    "    for i in range(len(points)-1):\n",
    "        draw.line((points[i], points[i+1]), fill=255, width=20)\n",
    "\n",
    "    img = ImageOps.invert(img.convert(\"L\")).resize((28,28))\n",
    "    img_array = np.array(img).reshape((784))\n",
    "\n",
    "    return abs(img_array - 255)\n",
    "\n",
    "def paint(event):\n",
    "    x, y = event.x, event.y\n",
    "    canvas.create_oval(x-10, y-10, x+10, y+10, fill='black')\n",
    "    points.append((x, y))\n",
    "\n",
    "def clear():\n",
    "    global points\n",
    "    canvas.delete('all')\n",
    "    points = []\n",
    "\n",
    "def get_flaat_digit():\n",
    "    global flaat_digit\n",
    "    flaat_digit = get_digit()\n",
    "    root.destroy()\n",
    "\n",
    "root = tk.Tk()\n",
    "\n",
    "root.title(\"Desenhe um dígito\")\n",
    "\n",
    "canvas_width = 280\n",
    "canvas_height = 280\n",
    "points = []\n",
    "\n",
    "canvas = tk.Canvas(root, width=canvas_width, height=canvas_height, bg='white')\n",
    "canvas.pack()\n",
    "\n",
    "canvas.bind('<B1-Motion>', paint)\n",
    "\n",
    "clear_button = tk.Button(text=\"Limpar\", command=clear)\n",
    "clear_button.pack(side='left')\n",
    "\n",
    "button_frame = tk.Frame(root)\n",
    "button_frame.pack(side='left', padx=5)\n",
    "\n",
    "flaat_digit = None\n",
    "\n",
    "digit_button = tk.Button(button_frame, text=\"Obter dígito\", command=get_flaat_digit)\n",
    "digit_button.pack()\n",
    "\n",
    "root.update()\n",
    "root.mainloop()"
   ]
  },
  {
   "cell_type": "code",
   "execution_count": 7,
   "metadata": {},
   "outputs": [
    {
     "name": "stderr",
     "output_type": "stream",
     "text": [
      "c:\\Users\\Guilherme\\Documents\\Faculdade\\p5\\projetoML\\utils.py:27: RuntimeWarning: overflow encountered in ubyte_scalars\n",
      "  soma += abs(matrix[(28 * i) + j] - matrix[(28 * (27 - i)) + j])\n",
      "c:\\Users\\Guilherme\\Documents\\Faculdade\\p5\\projetoML\\utils.py:16: RuntimeWarning: overflow encountered in ubyte_scalars\n",
      "  soma += abs(matrix[(28 * i) + j] - matrix[(28 * i) + 27 - j])\n"
     ]
    }
   ],
   "source": [
    "intensidade = intensidade_digito([flaat_digit])[0]\n",
    "simetria = (simetria_horizontal_digito([flaat_digit]) + simetria_vertical_digito([flaat_digit]))[0]\n",
    "\n",
    "x_test = np.array([1, intensidade, simetria]).reshape((1, 3))"
   ]
  },
  {
   "cell_type": "code",
   "execution_count": 8,
   "metadata": {},
   "outputs": [
    {
     "name": "stdout",
     "output_type": "stream",
     "text": [
      "Classificaoes LR, PLA, LOG: [1, 4, 4]\n",
      "Classificacao final: 4\n"
     ]
    }
   ],
   "source": [
    "from collections import Counter\n",
    "\n",
    "index_modelo = {\n",
    "    \"Linear Regression\": 0,\n",
    "    \"PLA\": 1,\n",
    "    \"Logistic Regression\": 2\n",
    "}\n",
    "\n",
    "modelo_lr = Um_contra_todos()\n",
    "modelo_lr.load_all_w(file='best_W.csv', index=index_modelo[\"Linear Regression\"])\n",
    "\n",
    "modelo_pla = Um_contra_todos()\n",
    "modelo_pla.load_all_w(file='best_W.csv', index=index_modelo[\"PLA\"])\n",
    "\n",
    "modelo_log = Um_contra_todos()\n",
    "modelo_log.load_all_w(file='best_W.csv', index=index_modelo[\"Logistic Regression\"])\n",
    "\n",
    "modelos = [modelo_lr, modelo_pla, modelo_log]\n",
    "\n",
    "classificaoes = []\n",
    "\n",
    "for modelo in modelos:\n",
    "    classificaoes.append(modelo.predict_digit(x_test)[0])\n",
    "\n",
    "print(\"Classificaoes LR, PLA, LOG:\", classificaoes)\n",
    "print(\"Classificacao final:\", Counter(classificaoes).most_common(1)[0][0])"
   ]
  }
 ],
 "metadata": {
  "kernelspec": {
   "display_name": "base",
   "language": "python",
   "name": "python3"
  },
  "language_info": {
   "codemirror_mode": {
    "name": "ipython",
    "version": 3
   },
   "file_extension": ".py",
   "mimetype": "text/x-python",
   "name": "python",
   "nbconvert_exporter": "python",
   "pygments_lexer": "ipython3",
   "version": "3.9.13"
  },
  "orig_nbformat": 4
 },
 "nbformat": 4,
 "nbformat_minor": 2
}
